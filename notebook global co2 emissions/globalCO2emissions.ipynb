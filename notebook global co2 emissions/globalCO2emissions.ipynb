{
  "nbformat": 4,
  "nbformat_minor": 0,
  "metadata": {
    "colab": {
      "provenance": []
    },
    "kernelspec": {
      "name": "python3",
      "display_name": "Python 3"
    },
    "language_info": {
      "name": "python"
    }
  },
  "cells": [
    {
      "cell_type": "code",
      "execution_count": null,
      "metadata": {
        "id": "MyEJM7V0K76c"
      },
      "outputs": [],
      "source": [
        "import pandas as pd\n",
        "import matplotlib.pyplot as plt\n",
        "import numpy as np\n",
        "%load_ext google.colab.data_table\n",
        "tables = pd.read_html(\"https://en.wikipedia.org/wiki/List_of_countries_by_carbon_dioxide_emissions\")\n",
        "countries = tables[1]\n",
        "countries"
      ]
    },
    {
      "cell_type": "code",
      "source": [
        "#Reading in the table as-is will produce a \"MultiIndex\" dataframe.\n",
        "#By renaming all columns you can convert it into a non-MultiIndex dataframe.\n",
        "#Use slicing and/or boolean masks to filter out the rows in this table that aren't countries.\n",
        "countries.columns = [\"country\",\"1990\",\"2005\",\"2017\", \"co2emm2017percentworld\",\"co2emm2017vs1990\",\"co2emm2017perland\", \\\n",
        "                     \"co2emm2017percapita\",\"co2emm2018incllucf\",\"co2emm2018excllucf\"]\n",
        "#Verwijder de records met 'world'\n",
        "countries = countries[3:]\n",
        "countries"
      ],
      "metadata": {
        "id": "ml3f-tP-Mb7M"
      },
      "execution_count": null,
      "outputs": []
    },
    {
      "cell_type": "markdown",
      "source": [
        "Graph 1: CO2 of the bigger countries\n",
        "\n",
        "Make a graph of the CO2 emissions of the 5 biggest CO2 producers in the world (based on the latest measurement). The x-axis should be the years of 1990, 2005 and 2017. If newer datapoints are added in the future please include them as well. The y-axis should represent the fossil CO2 emissions in Mt CO2 for the given years. "
      ],
      "metadata": {
        "id": "JcWqOwkIOyvG"
      }
    },
    {
      "cell_type": "code",
      "source": [
        "top5producers = countries.loc[countries[\"co2emm2017percentworld\"].str.strip(\"%\").astype(float).nlargest(5).index]\n",
        "#china, us, eu, india, russia\n",
        "#index 42,202,67,93,158\n",
        "top5producers"
      ],
      "metadata": {
        "id": "VdwNdbctO0FH"
      },
      "execution_count": null,
      "outputs": []
    },
    {
      "cell_type": "code",
      "source": [
        "fig, ax = plt.subplots()\n",
        "fig.set_figwidth(fig.get_figwidth()+5)\n",
        "\n",
        "for index, row in top5producers.iterrows():\n",
        "  ax.plot(top5producers.columns[1:4],row.loc[\"1990\":\"2017\"],label=row[0])\n",
        "\n",
        "# Put a legend to the right of the current axis\n",
        "ax.legend(loc='center left',bbox_to_anchor=(1.05,0.5))\n",
        "ax.set_xlabel('Year')\n",
        "ax.set_ylabel('Emissions')\n",
        "ax.set_title(\"Co2 emissions of top 5 biggest producers in the world\")"
      ],
      "metadata": {
        "id": "q6F4HyITZX4u"
      },
      "execution_count": null,
      "outputs": []
    },
    {
      "cell_type": "markdown",
      "source": [
        "Graph 2: worst and best changers\n",
        "\n",
        "Because of climate change it's important that we curb our carbon dioxide emissions. So some countries will have lowered their emissions while others may have increased their emissions. Some countries will have better results in doing this than others. If we calculate the relative change and sort by that change we'll get a list with countries that are changing for the better at one end and countries that are changing less well on the other end.\n",
        "\n",
        "Find the top three and bottom three countries with regards to lowering these emissions and plot their results.\n",
        "\n",
        "The x-axis should have be the years of 1990, 2005 and 2017. If newer datapoints are added in the future please include them as well. The y-axis should represent the relative amount of CO2 emitted where the measurement in 1990 is 100%.\n",
        "\n",
        "An example: Afghanistan emitted 2546Mt of CO2 in 1990 (which is the 100%). The relative amount in 2005 would be 1063/2546 * 100 = 41.75%. The relative amount in 2017 would be 11.422/2546 * 100 = 448.62%. So if Afghanistan is on the chart the line would go down first and then back up again."
      ],
      "metadata": {
        "id": "XUDBG8ZQkkzQ"
      }
    },
    {
      "cell_type": "code",
      "source": [
        "top3changes = countries.loc[countries[\"co2emm2017vs1990\"].str.strip(\"%\").str.replace(',', '').astype(\"float\").nlargest(3).index]\n",
        "down3changes = countries.loc[countries[\"co2emm2017vs1990\"].str.strip(\"%\").str.replace(',', '').astype(\"float\").nsmallest(3).index]\n",
        "topanddown3changes = pd.concat([top3changes,down3changes])\n",
        "\n",
        "#percentage 2005 tov 1990 berekenen en aan dataframe toevoegen\n",
        "#co2emm2005vs1990 = (\"2005\"/\"1990\")*100-100\n",
        "topanddown3changes[\"co2emm2005vs1990\"] = (topanddown3changes.loc[:,\"2005\"]/topanddown3changes.loc[:,\"1990\"])*100-100\n",
        "topanddown3changes[\"co2emm2017vs1990zperc\"] = topanddown3changes[\"co2emm2017vs1990\"].str.strip(\"%\").str.replace(',', '').astype(\"float\")\n",
        "topanddown3changes[\"default1990\"] = 100\n",
        "\n",
        "fig, ax = plt.subplots()\n",
        "fig.set_figwidth(fig.get_figwidth()+5)\n",
        "\n",
        "for index, row in topanddown3changes.iterrows():\n",
        "  ax.plot(topanddown3changes.columns[1:4],row.loc[[\"default1990\",\"co2emm2005vs1990\",\"co2emm2017vs1990zperc\"]],label=row[0])\n",
        "\n",
        "# Put a legend to the right of the current axis\n",
        "ax.legend(loc='center left',bbox_to_anchor=(1.05,0.5))\n",
        "ax.set_xlabel('Year')\n",
        "ax.set_ylabel('percentage change')\n",
        "a = topanddown3changes[\"default1990\"].max()\n",
        "b = topanddown3changes[\"co2emm2005vs1990\"].max()\n",
        "c = topanddown3changes[\"co2emm2017vs1990zperc\"].max()\n",
        "maxy = np.array([a,b,c]).max()\n",
        "a = topanddown3changes[\"default1990\"].min()\n",
        "b = topanddown3changes[\"co2emm2005vs1990\"].min()\n",
        "c = topanddown3changes[\"co2emm2017vs1990zperc\"].min()\n",
        "miny = np.array([a,b,c]).min()\n",
        "plt.ylim(miny, maxy)\n",
        "ax.set_title(\"Changes in CO2 emissions of top 3 best and worst changing countries\")\n",
        "\n",
        "topanddown3changes"
      ],
      "metadata": {
        "id": "WjkAo11bkmHR"
      },
      "execution_count": null,
      "outputs": []
    },
    {
      "cell_type": "markdown",
      "source": [
        "You may get some really small countries if you look at the relative change. This can distort the chart a lot. To create a more useful chart: now create the same chart for all countries that had at least five Mt of CO2 emissions in 1990."
      ],
      "metadata": {
        "id": "sgZIBIe2TVyc"
      }
    },
    {
      "cell_type": "code",
      "source": [
        "countriesmin5mt = countries[countries[\"1990\"] > 5]\n",
        "top3changes = countriesmin5mt.loc[countriesmin5mt[\"co2emm2017vs1990\"].str.strip(\"%\").str.replace(',', '').astype(\"float\").nlargest(3).index]\n",
        "down3changes = countriesmin5mt.loc[countriesmin5mt[\"co2emm2017vs1990\"].str.strip(\"%\").str.replace(',', '').astype(\"float\").nsmallest(3).index]\n",
        "topanddown3changes = pd.concat([top3changes,down3changes])\n",
        "\n",
        "#percentage 2005 tov 1990 berekenen en aan dataframe toevoegen\n",
        "#co2emm2005vs1990 = (\"2005\"/\"1990\")*100-100\n",
        "topanddown3changes[\"co2emm2005vs1990\"] = (topanddown3changes.loc[:,\"2005\"]/topanddown3changes.loc[:,\"1990\"])*100-100\n",
        "topanddown3changes[\"co2emm2017vs1990zperc\"] = topanddown3changes[\"co2emm2017vs1990\"].str.strip(\"%\").str.replace(',', '').astype(\"float\")\n",
        "topanddown3changes[\"default1990\"] = 100\n",
        "\n",
        "fig, ax = plt.subplots()\n",
        "fig.set_figwidth(fig.get_figwidth()+5)\n",
        "\n",
        "for index, row in topanddown3changes.iterrows():\n",
        "  ax.plot(topanddown3changes.columns[1:4],row.loc[[\"default1990\",\"co2emm2005vs1990\",\"co2emm2017vs1990zperc\"]],label=row[0])\n",
        "\n",
        "# Put a legend to the right of the current axis\n",
        "ax.legend(loc='center left',bbox_to_anchor=(1.05,0.5))\n",
        "ax.set_xlabel('Year')\n",
        "ax.set_ylabel('percentage change')\n",
        "a = topanddown3changes[\"default1990\"].max()\n",
        "b = topanddown3changes[\"co2emm2005vs1990\"].max()\n",
        "c = topanddown3changes[\"co2emm2017vs1990zperc\"].max()\n",
        "maxy = np.array([a,b,c]).max()\n",
        "a = topanddown3changes[\"default1990\"].min()\n",
        "b = topanddown3changes[\"co2emm2005vs1990\"].min()\n",
        "c = topanddown3changes[\"co2emm2017vs1990zperc\"].min()\n",
        "miny = np.array([a,b,c]).min()\n",
        "plt.ylim(miny, maxy)\n",
        "ax.set_title(\"Changes in CO2 emissions of top 3 best and worst changing countries\")\n",
        "\n",
        "topanddown3changes"
      ],
      "metadata": {
        "id": "Qc-Ck8R8TYJl"
      },
      "execution_count": null,
      "outputs": []
    }
  ]
}